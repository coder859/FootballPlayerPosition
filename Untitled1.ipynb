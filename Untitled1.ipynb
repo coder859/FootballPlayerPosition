{
 "cells": [
  {
   "cell_type": "code",
   "execution_count": 4,
   "id": "7b96f1cf",
   "metadata": {},
   "outputs": [
    {
     "name": "stdout",
     "output_type": "stream",
     "text": [
      "Training accuracy: 0.9868421052631579\n",
      "Cross-validation scores: [1.         0.92307692 0.95604396 0.95604396 0.9010989 ]\n",
      "Average cross-validation score: 0.9472527472527472\n",
      "Testing accuracy: 0.9652173913043478\n"
     ]
    }
   ],
   "source": [
    "import pandas as pd\n",
    "from sklearn.model_selection import train_test_split, cross_val_score\n",
    "from sklearn.preprocessing import StandardScaler, LabelEncoder\n",
    "from sklearn.tree import DecisionTreeClassifier\n",
    "from sklearn.metrics import accuracy_score\n",
    "\n",
    "# Load the CSV file\n",
    "file_path = r\"premier league players.csv\"\n",
    "df = pd.read_csv(file_path)\n",
    "\n",
    "# Add additional features and handle NaNs\n",
    "df['Goals_per_Game'] = df['Goals'] / df['Appearances']\n",
    "df['Assists_per_Game'] = df['Assists'] / df['Appearances']\n",
    "df = df.fillna(0)  # Replace NaNs with 0\n",
    "\n",
    "# Classify players with very few appearances as 'Inactive'\n",
    "threshold = 5\n",
    "df['Position'] = df.apply(lambda row: 'Inactive' if row['Appearances'] < threshold else row['Position'], axis=1)\n",
    "\n",
    "# Select numeric features and target\n",
    "numeric_features = ['Goals', 'Assists', 'Appearances', 'Tackles', 'Interceptions', 'Passes', 'Clearances',\n",
    "                    'Goals_per_Game', 'Assists_per_Game', 'Shots', 'Shots on target', 'Shooting accuracy %',\n",
    "                    'Goals conceded', 'Saves', 'Clean sheets', 'Tackle success %', 'Duels won', 'Aerial battles won',\n",
    "                    'Crosses', 'Cross accuracy %', 'Headed goals', 'Goals with right foot', 'Goals with left foot',\n",
    "                    'Penalties scored', 'Freekicks scored', 'Big chances missed', 'Duels lost', 'Aerial battles lost',\n",
    "                    'Successful 50/50s']\n",
    "\n",
    "features = df[numeric_features].select_dtypes(include=['float64', 'int64'])\n",
    "target = df['Position']\n",
    "\n",
    "# Handle missing values for numeric columns only\n",
    "features = features.fillna(features.mean())\n",
    "\n",
    "# Encode categorical target labels\n",
    "label_encoder = LabelEncoder()\n",
    "target_encoded = label_encoder.fit_transform(target)\n",
    "\n",
    "# Split the data into training and testing sets\n",
    "X_train, X_test, y_train, y_test = train_test_split(features, target_encoded, test_size=0.2, random_state=42)\n",
    "\n",
    "# Normalize/scale the features\n",
    "scaler = StandardScaler()\n",
    "X_train = scaler.fit_transform(X_train)\n",
    "X_test = scaler.transform(X_test)\n",
    "\n",
    "# Initialize the Decision Tree model\n",
    "decision_tree = DecisionTreeClassifier(criterion='entropy', max_depth = 5)\n",
    "\n",
    "# Fit the model to the training data\n",
    "decision_tree.fit(X_train, y_train)\n",
    "\n",
    "# Calculate Training Accuracy\n",
    "y_train_pred = decision_tree.predict(X_train)\n",
    "training_accuracy = accuracy_score(y_train, y_train_pred)\n",
    "print(f'Training accuracy: {training_accuracy}')\n",
    "\n",
    "# Perform 5-fold cross-validation and calculate the average score\n",
    "cv_scores = cross_val_score(decision_tree, X_train, y_train, cv=5, scoring='accuracy')\n",
    "print(f'Cross-validation scores: {cv_scores}')\n",
    "print(f'Average cross-validation score: {cv_scores.mean()}')\n",
    "\n",
    "# Calculate Testing Accuracy for comparison\n",
    "y_test_pred = decision_tree.predict(X_test)\n",
    "testing_accuracy = accuracy_score(y_test, y_test_pred)\n",
    "print(f'Testing accuracy: {testing_accuracy}')\n"
   ]
  },
  {
   "cell_type": "code",
   "execution_count": null,
   "id": "347f18e8",
   "metadata": {},
   "outputs": [],
   "source": []
  },
  {
   "cell_type": "code",
   "execution_count": null,
   "id": "172b465c",
   "metadata": {},
   "outputs": [],
   "source": []
  }
 ],
 "metadata": {
  "kernelspec": {
   "display_name": "Python 3 (ipykernel)",
   "language": "python",
   "name": "python3"
  },
  "language_info": {
   "codemirror_mode": {
    "name": "ipython",
    "version": 3
   },
   "file_extension": ".py",
   "mimetype": "text/x-python",
   "name": "python",
   "nbconvert_exporter": "python",
   "pygments_lexer": "ipython3",
   "version": "3.11.7"
  }
 },
 "nbformat": 4,
 "nbformat_minor": 5
}
